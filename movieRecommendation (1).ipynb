{
 "cells": [
  {
   "cell_type": "code",
   "execution_count": null,
   "id": "943f6b66-11f2-4527-9ddb-53d23f4f5837",
   "metadata": {},
   "outputs": [],
   "source": [
    "import cv2\n",
    "from tensorflow.keras.preprocessing.image import img_to_array\n",
    "import numpy as np\n",
    "from tensorflow.keras.models import load_model"
   ]
  },
  {
   "cell_type": "code",
   "execution_count": null,
   "id": "1a633449-abf7-49a9-9500-8c19fd8e7203",
   "metadata": {},
   "outputs": [],
   "source": [
    "\n",
    "haar = cv2.CascadeClassifier(\"haarcascade_frontalface_default.xml\")\n",
    "model_tuned = load_model(\"emotion_recognition_model_v2.h5\")"
   ]
  },
  {
   "cell_type": "code",
   "execution_count": null,
   "id": "2ad92503-f2bd-4483-a83f-3714ff59331e",
   "metadata": {},
   "outputs": [],
   "source": [
    "def detect_face(img):\n",
    "    coord = haar.detectMultiScale(img)\n",
    "    \n",
    "    return coord"
   ]
  },
  {
   "cell_type": "code",
   "execution_count": null,
   "id": "a53d55bb-cfb7-435b-892f-fa45095aed86",
   "metadata": {},
   "outputs": [],
   "source": [
    "import cv2\n",
    "import numpy as np\n",
    "from tensorflow.keras.models import load_model\n",
    "from keras.preprocessing.image import img_to_array\n",
    "import pandas as pd\n",
    "\n",
    "# Load the model and face detector\n",
    "haar = cv2.CascadeClassifier(\"haarcascade_frontalface_default.xml\")\n",
    "model_tuned = load_model(\"emotion_recognition_model.h5\")\n",
    "\n",
    "# Load movie data\n",
    "try:\n",
    "    movie_data = pd.read_csv('movies.csv')\n",
    "    print(\"Movie data loaded successfully.\")\n",
    "except Exception as e:\n",
    "    print(f\"Error loading movie data: {e}\")\n",
    "    movie_data = None  # Handle missing movie data gracefully\n",
    "\n",
    "# Emotion classes\n",
    "classes = ['Angry', 'Fear', 'Happy', 'Neutral', 'Sad', 'Surprise']\n",
    "\n",
    "def get_random_movie(emotion):\n",
    "    if movie_data is None:\n",
    "        return \"Movie data unavailable.\"\n",
    "    filtered_movies = movie_data[movie_data['Emotion'] == emotion]\n",
    "    if not filtered_movies.empty:\n",
    "        random_movie = filtered_movies.sample(n=1)\n",
    "        return f\"Recommended Movie: {random_movie['Movie Title'].values[0]} ({random_movie['Genre'].values[0]})\"\n",
    "    else:\n",
    "        return \"No recommendations available for this emotion.\"\n",
    "\n",
    "def detect_face(img):\n",
    "    coord = haar.detectMultiScale(img)\n",
    "    print(\"Faces detected:\", coord)\n",
    "    return coord\n",
    "\n",
    "webcam = cv2.VideoCapture(0)\n",
    "\n",
    "if not webcam.isOpened():\n",
    "    print(\"Error: Could not access the webcam.\")\n",
    "else:\n",
    "    print(\"Webcam opened successfully.\")\n",
    "\n",
    "while webcam.isOpened():\n",
    "    status, frame = webcam.read()\n",
    "    if not status:\n",
    "        print(\"Error: Failed to capture frame.\")\n",
    "        break\n",
    "\n",
    "    gray_frame = cv2.cvtColor(frame, cv2.COLOR_BGR2GRAY)\n",
    "    coords = detect_face(gray_frame)\n",
    "\n",
    "    for x, y, w, h in coords:\n",
    "        cv2.rectangle(frame, (x, y), (x + w, y + h), (0, 255, 0), 3)\n",
    "\n",
    "        face_crop = gray_frame[y:y + h, x:x + w]\n",
    "        if face_crop.shape[0] < 10 or face_crop.shape[1] < 10:\n",
    "            continue\n",
    "\n",
    "        face_crop = cv2.resize(face_crop, (48, 48))\n",
    "        face_crop = face_crop.astype(\"float\") / 255.0\n",
    "        face_crop = np.expand_dims(face_crop, axis=-1)\n",
    "        face_crop = np.expand_dims(face_crop, axis=0)\n",
    "\n",
    "        conf = model_tuned.predict(face_crop)[0]\n",
    "        idx = np.argmax(conf)\n",
    "        label = classes[idx]\n",
    "\n",
    "        cv2.putText(frame, label, (x, y - 10), cv2.FONT_HERSHEY_SIMPLEX, 0.7, (0, 255, 255), 2)\n",
    "        print(f\"Emotion Detected: {label}\")\n",
    "        print(get_random_movie(label))\n",
    "\n",
    "    cv2.imshow(\"Emotion Detection\", frame)\n",
    "\n",
    "    if cv2.waitKey(1) & 0xFF == ord('q'):\n",
    "        break\n",
    "\n",
    "webcam.release()\n",
    "cv2.destroyAllWindows()\n"
   ]
  },
  {
   "cell_type": "code",
   "execution_count": null,
   "id": "e74fd80b-b217-447f-a700-fe399686d463",
   "metadata": {},
   "outputs": [],
   "source": []
  },
  {
   "cell_type": "code",
   "execution_count": null,
   "id": "49214668-2c0f-4c0f-97f6-3f67ec315a50",
   "metadata": {},
   "outputs": [],
   "source": []
  },
  {
   "cell_type": "code",
   "execution_count": null,
   "id": "9b3d17d2-6052-4e3f-9db7-dfdc0445cdac",
   "metadata": {},
   "outputs": [],
   "source": []
  }
 ],
 "metadata": {
  "kernelspec": {
   "display_name": "Python 3 (ipykernel)",
   "language": "python",
   "name": "python3"
  },
  "language_info": {
   "codemirror_mode": {
    "name": "ipython",
    "version": 3
   },
   "file_extension": ".py",
   "mimetype": "text/x-python",
   "name": "python",
   "nbconvert_exporter": "python",
   "pygments_lexer": "ipython3",
   "version": "3.10.15"
  }
 },
 "nbformat": 4,
 "nbformat_minor": 5
}
